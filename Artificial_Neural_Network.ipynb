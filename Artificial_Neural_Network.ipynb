{
  "nbformat": 4,
  "nbformat_minor": 0,
  "metadata": {
    "colab": {
      "provenance": [],
      "include_colab_link": true
    },
    "kernelspec": {
      "name": "python3",
      "display_name": "Python 3"
    }
  },
  "cells": [
    {
      "cell_type": "markdown",
      "metadata": {
        "id": "view-in-github",
        "colab_type": "text"
      },
      "source": [
        "<a href=\"https://colab.research.google.com/github/pb-roshith/power-plant-energy-output-prediction-ANN/blob/main/Artificial_Neural_Network.ipynb\" target=\"_parent\"><img src=\"https://colab.research.google.com/assets/colab-badge.svg\" alt=\"Open In Colab\"/></a>"
      ]
    },
    {
      "cell_type": "markdown",
      "metadata": {
        "id": "3cbb7fRy-eyr"
      },
      "source": [
        "# Artificial Neural Network"
      ]
    },
    {
      "cell_type": "markdown",
      "metadata": {
        "id": "8sNDnxE2-pwE"
      },
      "source": [
        "### Importing the libraries"
      ]
    },
    {
      "cell_type": "code",
      "source": [
        "import numpy as np\n",
        "import pandas as pd\n",
        "import tensorflow as tf"
      ],
      "metadata": {
        "id": "8gFRa1ON9c1T"
      },
      "execution_count": 5,
      "outputs": []
    },
    {
      "cell_type": "code",
      "source": [
        "tf.__version__"
      ],
      "metadata": {
        "colab": {
          "base_uri": "https://localhost:8080/",
          "height": 36
        },
        "id": "Mr8m4-W_9qk-",
        "outputId": "749b0ebd-61aa-4ea9-e62e-8af5a4ebc146"
      },
      "execution_count": 6,
      "outputs": [
        {
          "output_type": "execute_result",
          "data": {
            "text/plain": [
              "'2.12.0'"
            ],
            "application/vnd.google.colaboratory.intrinsic+json": {
              "type": "string"
            }
          },
          "metadata": {},
          "execution_count": 6
        }
      ]
    },
    {
      "cell_type": "markdown",
      "metadata": {
        "id": "AG3FQEch-yuA"
      },
      "source": [
        "## Part 1 - Data Preprocessing"
      ]
    },
    {
      "cell_type": "markdown",
      "metadata": {
        "id": "-4zq8Mza_D9O"
      },
      "source": [
        "### Importing the dataset"
      ]
    },
    {
      "cell_type": "code",
      "source": [
        "dataset = pd.read_excel('Combined-Cycle-Power-Plant.xlsx')\n",
        "x = dataset.iloc[:, :-1].values\n",
        "y = dataset.iloc[:, -1].values"
      ],
      "metadata": {
        "id": "clPHlX-j95VQ"
      },
      "execution_count": 18,
      "outputs": []
    },
    {
      "cell_type": "code",
      "source": [
        "print(x)\n",
        "print(y)"
      ],
      "metadata": {
        "colab": {
          "base_uri": "https://localhost:8080/"
        },
        "id": "CqckEDbw-2fN",
        "outputId": "cf993e0e-bd8e-4565-b2a5-51088ac01c36"
      },
      "execution_count": 19,
      "outputs": [
        {
          "output_type": "stream",
          "name": "stdout",
          "text": [
            "[[  14.96   41.76 1024.07   73.17]\n",
            " [  25.18   62.96 1020.04   59.08]\n",
            " [   5.11   39.4  1012.16   92.14]\n",
            " ...\n",
            " [  31.32   74.33 1012.92   36.48]\n",
            " [  24.48   69.45 1013.86   62.39]\n",
            " [  21.6    62.52 1017.23   67.87]]\n",
            "[463.26 444.37 488.56 ... 429.57 435.74 453.28]\n"
          ]
        }
      ]
    },
    {
      "cell_type": "code",
      "source": [
        "x.shape"
      ],
      "metadata": {
        "colab": {
          "base_uri": "https://localhost:8080/"
        },
        "id": "w6pBUiHEBXiv",
        "outputId": "6aad85cf-ffbe-4ed0-be5c-90f9d9a4759d"
      },
      "execution_count": 20,
      "outputs": [
        {
          "output_type": "execute_result",
          "data": {
            "text/plain": [
              "(9568, 4)"
            ]
          },
          "metadata": {},
          "execution_count": 20
        }
      ]
    },
    {
      "cell_type": "code",
      "source": [
        "y.shape"
      ],
      "metadata": {
        "colab": {
          "base_uri": "https://localhost:8080/"
        },
        "id": "X7PGqbF2BZhO",
        "outputId": "4db164f1-6b3f-4bd6-f32f-97976a286acb"
      },
      "execution_count": 21,
      "outputs": [
        {
          "output_type": "execute_result",
          "data": {
            "text/plain": [
              "(9568,)"
            ]
          },
          "metadata": {},
          "execution_count": 21
        }
      ]
    },
    {
      "cell_type": "markdown",
      "metadata": {
        "id": "VC6omXel_Up0"
      },
      "source": [
        "### Splitting the dataset into the Training set and Test set"
      ]
    },
    {
      "cell_type": "code",
      "source": [
        "from sklearn.model_selection import train_test_split\n",
        "x_train, x_test, y_train, y_test = train_test_split(x, y, test_size = 0.2, random_state = 0)"
      ],
      "metadata": {
        "id": "Zkox5Scm_IHC"
      },
      "execution_count": 23,
      "outputs": []
    },
    {
      "cell_type": "markdown",
      "metadata": {
        "id": "_mSLlAT9_eyI"
      },
      "source": [
        "## Part 2 - Building the ANN"
      ]
    },
    {
      "cell_type": "markdown",
      "metadata": {
        "id": "CsBULd_f_wLY"
      },
      "source": [
        "### Initializing the ANN"
      ]
    },
    {
      "cell_type": "code",
      "source": [
        "ann = tf.keras.models.Sequential()"
      ],
      "metadata": {
        "id": "Nef6IWIoCCJ6"
      },
      "execution_count": 25,
      "outputs": []
    },
    {
      "cell_type": "markdown",
      "metadata": {
        "id": "iitAFJS_ABUn"
      },
      "source": [
        "### Adding the input layer and the first hidden layer"
      ]
    },
    {
      "cell_type": "code",
      "source": [
        "ann.add(tf.keras.layers.Dense(units=6, activation='relu'))"
      ],
      "metadata": {
        "id": "0_nPTOLXDorL"
      },
      "execution_count": 26,
      "outputs": []
    },
    {
      "cell_type": "markdown",
      "metadata": {
        "id": "-lb4kK_wAKbs"
      },
      "source": [
        "### Adding the second hidden layer"
      ]
    },
    {
      "cell_type": "code",
      "source": [
        "ann.add(tf.keras.layers.Dense(units=6, activation='relu'))"
      ],
      "metadata": {
        "id": "qAh_e2VoFTUM"
      },
      "execution_count": 30,
      "outputs": []
    },
    {
      "cell_type": "markdown",
      "metadata": {
        "id": "jwMOmKb3AdBY"
      },
      "source": [
        "### Adding the output layer"
      ]
    },
    {
      "cell_type": "code",
      "source": [
        "ann.add(tf.keras.layers.Dense(units=1))"
      ],
      "metadata": {
        "id": "qI78Byr2FWY5"
      },
      "execution_count": 40,
      "outputs": []
    },
    {
      "cell_type": "markdown",
      "metadata": {
        "id": "fq7e4fF6A1yy"
      },
      "source": [
        "## Part 3 - Training the ANN"
      ]
    },
    {
      "cell_type": "markdown",
      "metadata": {
        "id": "qDeylAs2An25"
      },
      "source": [
        "### Compiling the ANN"
      ]
    },
    {
      "cell_type": "code",
      "source": [
        "ann.compile(optimizer='adam', loss='mean_squared_error')"
      ],
      "metadata": {
        "id": "4GSRRcUfF8fE"
      },
      "execution_count": 41,
      "outputs": []
    },
    {
      "cell_type": "markdown",
      "metadata": {
        "id": "YjVuiybYOo7r"
      },
      "source": [
        "### Training the ANN model on the Training set"
      ]
    },
    {
      "cell_type": "code",
      "source": [
        "ann.fit(x_train, y_train, batch_size=32 , epochs=100)"
      ],
      "metadata": {
        "colab": {
          "base_uri": "https://localhost:8080/"
        },
        "id": "rIcKYVNeH1q6",
        "outputId": "fbc405b0-70fc-4d1d-9d8a-106ef54ed50d"
      },
      "execution_count": 42,
      "outputs": [
        {
          "output_type": "stream",
          "name": "stdout",
          "text": [
            "Epoch 1/100\n",
            "240/240 [==============================] - 2s 3ms/step - loss: 442.8784\n",
            "Epoch 2/100\n",
            "240/240 [==============================] - 1s 2ms/step - loss: 26.4236\n",
            "Epoch 3/100\n",
            "240/240 [==============================] - 1s 2ms/step - loss: 26.6615\n",
            "Epoch 4/100\n",
            "240/240 [==============================] - 1s 2ms/step - loss: 26.9841\n",
            "Epoch 5/100\n",
            "240/240 [==============================] - 1s 2ms/step - loss: 26.7994\n",
            "Epoch 6/100\n",
            "240/240 [==============================] - 1s 2ms/step - loss: 27.5399\n",
            "Epoch 7/100\n",
            "240/240 [==============================] - 1s 2ms/step - loss: 27.9777\n",
            "Epoch 8/100\n",
            "240/240 [==============================] - 1s 2ms/step - loss: 28.8488\n",
            "Epoch 9/100\n",
            "240/240 [==============================] - 1s 4ms/step - loss: 28.0191\n",
            "Epoch 10/100\n",
            "240/240 [==============================] - 1s 4ms/step - loss: 30.9230\n",
            "Epoch 11/100\n",
            "240/240 [==============================] - 1s 4ms/step - loss: 29.0534\n",
            "Epoch 12/100\n",
            "240/240 [==============================] - 1s 3ms/step - loss: 28.8577\n",
            "Epoch 13/100\n",
            "240/240 [==============================] - 1s 2ms/step - loss: 30.1228\n",
            "Epoch 14/100\n",
            "240/240 [==============================] - 1s 2ms/step - loss: 32.5843\n",
            "Epoch 15/100\n",
            "240/240 [==============================] - 1s 3ms/step - loss: 28.6297\n",
            "Epoch 16/100\n",
            "240/240 [==============================] - 1s 3ms/step - loss: 30.1630\n",
            "Epoch 17/100\n",
            "240/240 [==============================] - 1s 2ms/step - loss: 30.1381\n",
            "Epoch 18/100\n",
            "240/240 [==============================] - 1s 3ms/step - loss: 30.4627\n",
            "Epoch 19/100\n",
            "240/240 [==============================] - 1s 3ms/step - loss: 31.1245\n",
            "Epoch 20/100\n",
            "240/240 [==============================] - 1s 3ms/step - loss: 29.2273\n",
            "Epoch 21/100\n",
            "240/240 [==============================] - 1s 2ms/step - loss: 32.3003\n",
            "Epoch 22/100\n",
            "240/240 [==============================] - 1s 2ms/step - loss: 29.5570\n",
            "Epoch 23/100\n",
            "240/240 [==============================] - 1s 3ms/step - loss: 30.2610\n",
            "Epoch 24/100\n",
            "240/240 [==============================] - 1s 3ms/step - loss: 29.0211\n",
            "Epoch 25/100\n",
            "240/240 [==============================] - 1s 2ms/step - loss: 29.0362\n",
            "Epoch 26/100\n",
            "240/240 [==============================] - 1s 2ms/step - loss: 30.2043\n",
            "Epoch 27/100\n",
            "240/240 [==============================] - 1s 2ms/step - loss: 31.3751\n",
            "Epoch 28/100\n",
            "240/240 [==============================] - 1s 2ms/step - loss: 29.4403\n",
            "Epoch 29/100\n",
            "240/240 [==============================] - 1s 3ms/step - loss: 30.4535\n",
            "Epoch 30/100\n",
            "240/240 [==============================] - 1s 4ms/step - loss: 31.7432\n",
            "Epoch 31/100\n",
            "240/240 [==============================] - 1s 4ms/step - loss: 28.7395\n",
            "Epoch 32/100\n",
            "240/240 [==============================] - 1s 3ms/step - loss: 27.5645\n",
            "Epoch 33/100\n",
            "240/240 [==============================] - 1s 2ms/step - loss: 31.2967\n",
            "Epoch 34/100\n",
            "240/240 [==============================] - 1s 2ms/step - loss: 29.9386\n",
            "Epoch 35/100\n",
            "240/240 [==============================] - 1s 2ms/step - loss: 28.1662\n",
            "Epoch 36/100\n",
            "240/240 [==============================] - 1s 2ms/step - loss: 30.5273\n",
            "Epoch 37/100\n",
            "240/240 [==============================] - 1s 2ms/step - loss: 29.3590\n",
            "Epoch 38/100\n",
            "240/240 [==============================] - 1s 2ms/step - loss: 30.2621\n",
            "Epoch 39/100\n",
            "240/240 [==============================] - 1s 2ms/step - loss: 29.3706\n",
            "Epoch 40/100\n",
            "240/240 [==============================] - 1s 2ms/step - loss: 28.9920\n",
            "Epoch 41/100\n",
            "240/240 [==============================] - 1s 2ms/step - loss: 28.8667\n",
            "Epoch 42/100\n",
            "240/240 [==============================] - 1s 2ms/step - loss: 27.2185\n",
            "Epoch 43/100\n",
            "240/240 [==============================] - 1s 2ms/step - loss: 27.5540\n",
            "Epoch 44/100\n",
            "240/240 [==============================] - 1s 2ms/step - loss: 28.4377\n",
            "Epoch 45/100\n",
            "240/240 [==============================] - 1s 2ms/step - loss: 27.4635\n",
            "Epoch 46/100\n",
            "240/240 [==============================] - 1s 2ms/step - loss: 28.0440\n",
            "Epoch 47/100\n",
            "240/240 [==============================] - 1s 2ms/step - loss: 28.1959\n",
            "Epoch 48/100\n",
            "240/240 [==============================] - 1s 2ms/step - loss: 26.0721\n",
            "Epoch 49/100\n",
            "240/240 [==============================] - 1s 2ms/step - loss: 26.5691\n",
            "Epoch 50/100\n",
            "240/240 [==============================] - 1s 3ms/step - loss: 28.7165\n",
            "Epoch 51/100\n",
            "240/240 [==============================] - 1s 4ms/step - loss: 27.0579\n",
            "Epoch 52/100\n",
            "240/240 [==============================] - 1s 4ms/step - loss: 28.3537\n",
            "Epoch 53/100\n",
            "240/240 [==============================] - 1s 3ms/step - loss: 25.6727\n",
            "Epoch 54/100\n",
            "240/240 [==============================] - 1s 2ms/step - loss: 28.1283\n",
            "Epoch 55/100\n",
            "240/240 [==============================] - 1s 2ms/step - loss: 27.5149\n",
            "Epoch 56/100\n",
            "240/240 [==============================] - 1s 2ms/step - loss: 27.4123\n",
            "Epoch 57/100\n",
            "240/240 [==============================] - 1s 2ms/step - loss: 25.8274\n",
            "Epoch 58/100\n",
            "240/240 [==============================] - 1s 2ms/step - loss: 26.0036\n",
            "Epoch 59/100\n",
            "240/240 [==============================] - 1s 3ms/step - loss: 25.1328\n",
            "Epoch 60/100\n",
            "240/240 [==============================] - 1s 3ms/step - loss: 27.6800\n",
            "Epoch 61/100\n",
            "240/240 [==============================] - 1s 2ms/step - loss: 27.7053\n",
            "Epoch 62/100\n",
            "240/240 [==============================] - 1s 2ms/step - loss: 27.4117\n",
            "Epoch 63/100\n",
            "240/240 [==============================] - 1s 2ms/step - loss: 25.6592\n",
            "Epoch 64/100\n",
            "240/240 [==============================] - 1s 2ms/step - loss: 25.5819\n",
            "Epoch 65/100\n",
            "240/240 [==============================] - 1s 2ms/step - loss: 27.2474\n",
            "Epoch 66/100\n",
            "240/240 [==============================] - 1s 2ms/step - loss: 26.0812\n",
            "Epoch 67/100\n",
            "240/240 [==============================] - 1s 2ms/step - loss: 26.8185\n",
            "Epoch 68/100\n",
            "240/240 [==============================] - 1s 2ms/step - loss: 25.4273\n",
            "Epoch 69/100\n",
            "240/240 [==============================] - 1s 2ms/step - loss: 27.7142\n",
            "Epoch 70/100\n",
            "240/240 [==============================] - 1s 2ms/step - loss: 26.1549\n",
            "Epoch 71/100\n",
            "240/240 [==============================] - 1s 3ms/step - loss: 26.3513\n",
            "Epoch 72/100\n",
            "240/240 [==============================] - 1s 4ms/step - loss: 26.9945\n",
            "Epoch 73/100\n",
            "240/240 [==============================] - 1s 4ms/step - loss: 26.5530\n",
            "Epoch 74/100\n",
            "240/240 [==============================] - 1s 3ms/step - loss: 26.0310\n",
            "Epoch 75/100\n",
            "240/240 [==============================] - 1s 2ms/step - loss: 26.4352\n",
            "Epoch 76/100\n",
            "240/240 [==============================] - 1s 2ms/step - loss: 26.2705\n",
            "Epoch 77/100\n",
            "240/240 [==============================] - 1s 2ms/step - loss: 25.6794\n",
            "Epoch 78/100\n",
            "240/240 [==============================] - 1s 2ms/step - loss: 26.0078\n",
            "Epoch 79/100\n",
            "240/240 [==============================] - 1s 2ms/step - loss: 27.7425\n",
            "Epoch 80/100\n",
            "240/240 [==============================] - 1s 2ms/step - loss: 25.0373\n",
            "Epoch 81/100\n",
            "240/240 [==============================] - 1s 2ms/step - loss: 26.1045\n",
            "Epoch 82/100\n",
            "240/240 [==============================] - 1s 2ms/step - loss: 25.6935\n",
            "Epoch 83/100\n",
            "240/240 [==============================] - 1s 3ms/step - loss: 25.6608\n",
            "Epoch 84/100\n",
            "240/240 [==============================] - 1s 2ms/step - loss: 25.6725\n",
            "Epoch 85/100\n",
            "240/240 [==============================] - 1s 2ms/step - loss: 26.2155\n",
            "Epoch 86/100\n",
            "240/240 [==============================] - 1s 2ms/step - loss: 25.8099\n",
            "Epoch 87/100\n",
            "240/240 [==============================] - 1s 2ms/step - loss: 27.2282\n",
            "Epoch 88/100\n",
            "240/240 [==============================] - 1s 2ms/step - loss: 27.2104\n",
            "Epoch 89/100\n",
            "240/240 [==============================] - 1s 3ms/step - loss: 26.2821\n",
            "Epoch 90/100\n",
            "240/240 [==============================] - 1s 4ms/step - loss: 26.2500\n",
            "Epoch 91/100\n",
            "240/240 [==============================] - 1s 4ms/step - loss: 25.2521\n",
            "Epoch 92/100\n",
            "240/240 [==============================] - 1s 4ms/step - loss: 25.8747\n",
            "Epoch 93/100\n",
            "240/240 [==============================] - 1s 4ms/step - loss: 25.5122\n",
            "Epoch 94/100\n",
            "240/240 [==============================] - 1s 4ms/step - loss: 26.3654\n",
            "Epoch 95/100\n",
            "240/240 [==============================] - 1s 3ms/step - loss: 25.5563\n",
            "Epoch 96/100\n",
            "240/240 [==============================] - 1s 2ms/step - loss: 26.3429\n",
            "Epoch 97/100\n",
            "240/240 [==============================] - 1s 3ms/step - loss: 26.0330\n",
            "Epoch 98/100\n",
            "240/240 [==============================] - 1s 2ms/step - loss: 26.0781\n",
            "Epoch 99/100\n",
            "240/240 [==============================] - 1s 2ms/step - loss: 26.2702\n",
            "Epoch 100/100\n",
            "240/240 [==============================] - 1s 3ms/step - loss: 26.6646\n"
          ]
        },
        {
          "output_type": "execute_result",
          "data": {
            "text/plain": [
              "<keras.callbacks.History at 0x7f8324b81c00>"
            ]
          },
          "metadata": {},
          "execution_count": 42
        }
      ]
    },
    {
      "cell_type": "markdown",
      "metadata": {
        "id": "0H0zKKNEBLD5"
      },
      "source": [
        "### Predicting the results of the Test set"
      ]
    },
    {
      "cell_type": "code",
      "source": [
        "y_pred = ann.predict(x_test)\n",
        "np.set_printoptions(precision=2)\n",
        "print(np.concatenate((y_pred.reshape(len(y_pred),1), y_test.reshape(len(y_test),1)), 1))"
      ],
      "metadata": {
        "colab": {
          "base_uri": "https://localhost:8080/"
        },
        "id": "Sifx2jZYLwy4",
        "outputId": "609f7950-00a2-4b50-cd1c-4274178dbb8b"
      },
      "execution_count": 44,
      "outputs": [
        {
          "output_type": "stream",
          "name": "stdout",
          "text": [
            "60/60 [==============================] - 0s 1ms/step\n",
            "[[432.58 431.23]\n",
            " [460.58 460.01]\n",
            " [465.66 461.14]\n",
            " ...\n",
            " [472.45 473.26]\n",
            " [438.41 438.  ]\n",
            " [457.8  463.28]]\n"
          ]
        }
      ]
    }
  ]
}